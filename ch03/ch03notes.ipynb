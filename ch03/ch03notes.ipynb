{
 "cells": [
  {
   "cell_type": "markdown",
   "metadata": {},
   "source": [
    "<!DOCTYPE html>\n",
    "<html>\n",
    "    <head>\n",
    "        <title>Page Title</title>\n",
    "    </head>\n",
    "    <body>   \n",
    "        <h1>Amazing Visualization Tool Cures All Ills</h1>\n",
    "        <p>A new open-source tool designed for visualization of data turns out to have an unexpected, positive side \n",
    "        effect: It heals any ailments of the viewer. Leading scientists report that the tool, called D3000, can Cures\n",
    "        even the following symptoms:</p>\n",
    "        <ul>\n",
    "            <li>fevers</li>\n",
    "            <li>chills</li>\n",
    "            <li>general malaise</li>\n",
    "        </ul>\n",
    "        <p>It achieves this end with a patented, three-step process.</p>\n",
    "        <ol>\n",
    "            <li>Load in data</li>\n",
    "            <li>Generate a visual representation</li>\n",
    "            <li>Activate magic healing function</li>\n",
    "        </ol>\n",
    "    </body>\n",
    "</html>"
   ]
  },
  {
   "cell_type": "code",
   "execution_count": null,
   "metadata": {},
   "outputs": [],
   "source": []
  }
 ],
 "metadata": {
  "kernelspec": {
   "display_name": "base",
   "language": "python",
   "name": "python3"
  },
  "language_info": {
   "codemirror_mode": {
    "name": "ipython",
    "version": 3
   },
   "file_extension": ".py",
   "mimetype": "text/x-python",
   "name": "python",
   "nbconvert_exporter": "python",
   "pygments_lexer": "ipython3",
   "version": "3.8.8"
  },
  "orig_nbformat": 4
 },
 "nbformat": 4,
 "nbformat_minor": 2
}
